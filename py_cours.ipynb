{
  "cells": [
    {
      "cell_type": "code",
      "source": [
        "a = 50\n",
        "print(a)"
      ],
      "metadata": {
        "id": "Cvvv-zvp1EPh",
        "outputId": "504f7c50-c215-4fdb-b94c-1c3a9b9b0d03",
        "colab": {
          "base_uri": "https://localhost:8080/"
        }
      },
      "execution_count": null,
      "outputs": [
        {
          "output_type": "stream",
          "name": "stdout",
          "text": [
            "50\n"
          ]
        }
      ]
    }
  ],
  "metadata": {
    "colab": {
      "collapsed_sections": [],
      "toc_visible": true,
      "provenance": [],
      "name": "py-cours.ipynb"
    },
    "kernelspec": {
      "display_name": "Python 3",
      "name": "python3"
    }
  },
  "nbformat": 4,
  "nbformat_minor": 0
}