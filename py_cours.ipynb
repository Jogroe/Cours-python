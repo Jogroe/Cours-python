{
  "cells": [
    {
      "cell_type": "code",
      "source": [
        "#2.1\n",
        "\"\"\"\n",
        "a = 8\n",
        "b = 5\n",
        "if ((a - b) > 0):\n",
        "    print(\"resultat du produit positif\")\n",
        "else:\n",
        "    print(\"resultat du produit negatif\")\n",
        "\"\"\"\n",
        "\n",
        "#2.2\n",
        "\"\"\"\n",
        "a = 6\n",
        "x = 1\n",
        "res = 0\n",
        "while(x <= a):\n",
        "    res = res + x\n",
        "    x += 1\n",
        "print(res)\n",
        "\"\"\"\n",
        "\n",
        "#2.3\n",
        "\"\"\"\n",
        "tab = [5,2,8]\n",
        "res = 0\n",
        "for i in tab:\n",
        "    res = res + i\n",
        "print(res)\n",
        "\"\"\""
      ],
      "metadata": {
        "id": "Cvvv-zvp1EPh",
        "outputId": "504f7c50-c215-4fdb-b94c-1c3a9b9b0d03",
        "colab": {
          "base_uri": "https://localhost:8080/"
        }
      },
      "execution_count": null,
      "outputs": [
        {
          "output_type": "stream",
          "name": "stdout",
          "text": [
            "50\n"
          ]
        }
      ]
    }
  ],
  "metadata": {
    "colab": {
      "collapsed_sections": [],
      "toc_visible": true,
      "provenance": [],
      "name": "py-cours.ipynb"
    },
    "kernelspec": {
      "display_name": "Python 3",
      "name": "python3"
    }
  },
  "nbformat": 4,
  "nbformat_minor": 0
}